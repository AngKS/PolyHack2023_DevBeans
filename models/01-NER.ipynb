{
 "cells": [
  {
   "cell_type": "code",
   "execution_count": 4,
   "outputs": [],
   "source": [
    "import os\n",
    "import openai\n",
    "from dotenv import load_dotenv\n",
    "import json\n",
    "\n",
    "\n",
    "load_dotenv()\n",
    "openai.api_key = os.getenv(\"OPENAI_API_KEY\")\n"
   ],
   "metadata": {
    "collapsed": false,
    "pycharm": {
     "name": "#%%\n"
    }
   }
  },
  {
   "cell_type": "markdown",
   "source": [
    "# Named entity recognition"
   ],
   "metadata": {
    "collapsed": false,
    "pycharm": {
     "name": "#%% md\n"
    }
   }
  },
  {
   "cell_type": "code",
   "execution_count": 5,
   "outputs": [
    {
     "name": "stdout",
     "output_type": "stream",
     "text": [
      "{\"entities\": [ [\"Apple Inc.\", \"ORG\"], [\"John Smith\", \"PERSON\"], [\"San Francisco\", \"GPE\"], [\"2022-07-23\", \"DATE\"] ]}\n"
     ]
    }
   ],
   "source": [
    "response = openai.ChatCompletion.create(\n",
    "  model=\"gpt-3.5-turbo\",\n",
    "  messages=[\n",
    "        {\"role\": \"system\", \"content\": 'perform ner and return me a json array of entities and their categories without any explanation, in the format: {\"entities\": [ [<words>, <entity>], [<words>, <entity>] ]} '},\n",
    "        {\"role\": \"user\", \"content\": '''Apple Inc. decided to hire John Smith as their new CEO. The event will take place in San Francisco on 2022-07-23.'''},\n",
    "        # {\"role\": \"assistant\", \"content\": 'Please identify and categorize the entities in the provided text.'},\n",
    "    ]\n",
    ")\n",
    "\n",
    "print(response['choices'][0]['message']['content'])"
   ],
   "metadata": {
    "collapsed": false,
    "pycharm": {
     "name": "#%%\n"
    }
   }
  },
  {
   "cell_type": "code",
   "execution_count": 33,
   "outputs": [
    {
     "data": {
      "text/plain": "[['Apple Inc.', 'ORG'],\n ['John Smith', 'PERSON'],\n ['CEO', 'TITLE'],\n ['San Francisco', 'GPE'],\n ['2022-07-23', 'DATE']]"
     },
     "execution_count": 33,
     "metadata": {},
     "output_type": "execute_result"
    }
   ],
   "source": [
    "json.loads(response['choices'][0]['message']['content'])['entities']"
   ],
   "metadata": {
    "collapsed": false,
    "pycharm": {
     "name": "#%%\n"
    }
   }
  },
  {
   "cell_type": "code",
   "execution_count": 34,
   "outputs": [
    {
     "data": {
      "text/plain": "<OpenAIObject chat.completion id=chatcmpl-7Q9k7cjNTaXEmx8ngNMk78gCuV5m1 at 0x244b4791850> JSON: {\n  \"id\": \"chatcmpl-7Q9k7cjNTaXEmx8ngNMk78gCuV5m1\",\n  \"object\": \"chat.completion\",\n  \"created\": 1686468335,\n  \"model\": \"gpt-3.5-turbo-0301\",\n  \"usage\": {\n    \"prompt_tokens\": 84,\n    \"completion_tokens\": 43,\n    \"total_tokens\": 127\n  },\n  \"choices\": [\n    {\n      \"message\": {\n        \"role\": \"assistant\",\n        \"content\": \"{\\\"entities\\\": [[\\\"Apple Inc.\\\", \\\"ORG\\\"], [\\\"John Smith\\\", \\\"PERSON\\\"], [\\\"CEO\\\", \\\"TITLE\\\"], [\\\"San Francisco\\\", \\\"GPE\\\"], [\\\"2022-07-23\\\", \\\"DATE\\\"]]}\"\n      },\n      \"finish_reason\": \"stop\",\n      \"index\": 0\n    }\n  ]\n}"
     },
     "execution_count": 34,
     "metadata": {},
     "output_type": "execute_result"
    }
   ],
   "source": [
    "response"
   ],
   "metadata": {
    "collapsed": false,
    "pycharm": {
     "name": "#%%\n"
    }
   }
  },
  {
   "cell_type": "code",
   "execution_count": 36,
   "outputs": [
    {
     "data": {
      "text/plain": "{'entities': [['Apple Inc.', 'ORG'],\n  ['John Smith', 'PERSON'],\n  ['San Francisco', 'GPE'],\n  ['2022-07-23', 'DATE']]}"
     },
     "execution_count": 36,
     "metadata": {},
     "output_type": "execute_result"
    }
   ],
   "source": [
    "import spacy\n",
    "\n",
    "# Load English tokenizer, tagger, parser, NER and word vectors\n",
    "nlp = spacy.load(\"en_core_web_sm\")\n",
    "\n",
    "def ner(text):\n",
    "    doc = nlp(text)\n",
    "\n",
    "    # Find named entities, phrases and concepts\n",
    "    entities = []\n",
    "    for entity in doc.ents:\n",
    "        entities.append([entity.text, entity.label_])\n",
    "\n",
    "    result = {\"entities\": entities}\n",
    "    return result\n",
    "\n",
    "\n",
    "text = (\"Apple Inc. decided to hire John Smith as their new CEO. \"\n",
    "        \"The event will take place in San Francisco on 2022-07-23.\")\n",
    "\n",
    "ner(text)"
   ],
   "metadata": {
    "collapsed": false,
    "pycharm": {
     "name": "#%%\n"
    }
   }
  },
  {
   "cell_type": "code",
   "execution_count": null,
   "outputs": [],
   "source": [
    "response = openai.ChatCompletion.create(\n",
    "  model=\"gpt-3.5-turbo\",\n",
    "  messages=[\n",
    "        {\"role\": \"system\", \"content\": 'rewrite me a json, that has three sentence suggestions to make the following sentence not so, in the format: {\"suggestions\": [ <rewritten sentence>, <rewritten sentence> ]} '},\n",
    "        {\"role\": \"user\", \"content\": '''Apple Inc. decided to hire John Smith as their new CEO. The event will take place in San Francisco on 2022-07-23.'''},\n",
    "        # {\"role\": \"assistant\", \"content\": 'Please identify and categorize the entities in the provided text.'},\n",
    "    ]\n",
    ")\n",
    "\n",
    "print(response['choices'][0]['message']['content'])"
   ],
   "metadata": {
    "collapsed": false,
    "pycharm": {
     "name": "#%%\n"
    }
   }
  },
  {
   "cell_type": "code",
   "execution_count": 18,
   "outputs": [
    {
     "data": {
      "text/plain": "[\"That's an incredibly hurtful thing to say.\",\n 'Please refrain from making such offensive remarks.',\n \"Let's try to communicate respectfully and without insults.\"]"
     },
     "execution_count": 18,
     "metadata": {},
     "output_type": "execute_result"
    }
   ],
   "source": [
    "def get_suggestions(sentence):\n",
    "    response = openai.ChatCompletion.create(\n",
    "      model=\"gpt-3.5-turbo\",\n",
    "      messages=[\n",
    "            {\"role\": \"system\", \"content\": 'rewrite me a json, that has three sentence suggestions to make the following sentence none toxic, but convey the same emotion, in the format: {\"suggestions\": [ <rewritten sentence>, <rewritten sentence> ]} '},\n",
    "            {\"role\": \"user\", \"content\": sentence},\n",
    "        ]\n",
    "    )\n",
    "\n",
    "    suggestions_json = response['choices'][0]['message']['content']\n",
    "    suggestions_list = json.loads(str(suggestions_json))['suggestions']\n",
    "\n",
    "    return suggestions_list\n",
    "\n",
    "get_suggestions(\"Fuck your mother!\")\n"
   ],
   "metadata": {
    "collapsed": false,
    "pycharm": {
     "name": "#%%\n"
    }
   }
  },
  {
   "cell_type": "code",
   "execution_count": null,
   "outputs": [],
   "source": [],
   "metadata": {
    "collapsed": false,
    "pycharm": {
     "name": "#%%\n"
    }
   }
  }
 ],
 "metadata": {
  "kernelspec": {
   "display_name": "Python 3",
   "language": "python",
   "name": "python3"
  },
  "language_info": {
   "codemirror_mode": {
    "name": "ipython",
    "version": 2
   },
   "file_extension": ".py",
   "mimetype": "text/x-python",
   "name": "python",
   "nbconvert_exporter": "python",
   "pygments_lexer": "ipython2",
   "version": "2.7.6"
  }
 },
 "nbformat": 4,
 "nbformat_minor": 0
}