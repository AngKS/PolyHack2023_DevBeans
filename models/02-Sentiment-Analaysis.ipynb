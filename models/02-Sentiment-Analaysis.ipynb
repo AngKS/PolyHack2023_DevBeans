{
 "cells": [
  {
   "cell_type": "code",
   "execution_count": 7,
   "outputs": [
    {
     "name": "stderr",
     "output_type": "stream",
     "text": [
      "[nltk_data] Downloading package vader_lexicon to\n",
      "[nltk_data]     C:\\Users\\stx6\\AppData\\Roaming\\nltk_data...\n",
      "[nltk_data]   Package vader_lexicon is already up-to-date!\n",
      "[nltk_data] Downloading package punkt to\n",
      "[nltk_data]     C:\\Users\\stx6\\AppData\\Roaming\\nltk_data...\n",
      "[nltk_data]   Package punkt is already up-to-date!\n"
     ]
    }
   ],
   "source": [
    "import nltk\n",
    "nltk.download('vader_lexicon')\n",
    "nltk.download('punkt')\n",
    "\n",
    "import os\n",
    "import openai\n",
    "from dotenv import load_dotenv\n",
    "import json\n",
    "\n",
    "load_dotenv()\n",
    "openai.api_key = os.getenv(\"OPENAI_API_KEY\")\n",
    "\n",
    "huggingface_token = os.getenv('HF_TOKEN')\n"
   ],
   "metadata": {
    "collapsed": false,
    "pycharm": {
     "name": "#%%\n"
    }
   }
  },
  {
   "cell_type": "code",
   "execution_count": 4,
   "outputs": [
    {
     "name": "stdout",
     "output_type": "stream",
     "text": [
      "{'neg': 0.126, 'neu': 0.803, 'pos': 0.071, 'compound': -0.34}\n"
     ]
    }
   ],
   "source": [
    "from nltk.sentiment.vader import SentimentIntensityAnalyzer\n",
    "\n",
    "sia = SentimentIntensityAnalyzer()\n",
    "\n",
    "text = '''A Chinese warship cut off an American warship in the Taiwan Strait while both U.S. and Chinese defense chiefs attended the same conference in Singapore and  days after a Chinese fighter jet \"thumped\" a U.S. Air Force RC-135 in the South China Sea.'''\n",
    "\n",
    "score = sia.polarity_scores(text)\n",
    "print(score)"
   ],
   "metadata": {
    "collapsed": false,
    "pycharm": {
     "name": "#%%\n"
    }
   }
  },
  {
   "cell_type": "code",
   "execution_count": 5,
   "outputs": [
    {
     "name": "stdout",
     "output_type": "stream",
     "text": [
      "['to fuck', 'fuck your']\n"
     ]
    }
   ],
   "source": [
    "from nltk.sentiment.vader import SentimentIntensityAnalyzer\n",
    "from nltk import word_tokenize\n",
    "\n",
    "sia = SentimentIntensityAnalyzer()\n",
    "\n",
    "# Define your list of extreme negative words\n",
    "extreme_neg_words = [\"fuck\"]\n",
    "\n",
    "def detect_neg_phrases(text):\n",
    "    words = word_tokenize(text)\n",
    "    neg_phrases = []\n",
    "\n",
    "    for i in range(len(words) - 1):\n",
    "        phrase = f\"{words[i]} {words[i + 1]}\"\n",
    "        if sia.polarity_scores(phrase)[\"compound\"] < -0.5 and (words[i] in extreme_neg_words or words[i + 1] in extreme_neg_words):\n",
    "            neg_phrases.append(phrase)\n",
    "\n",
    "    return neg_phrases\n",
    "\n",
    "text = \"I would like to fuck your mother\"\n",
    "print(detect_neg_phrases(text))"
   ],
   "metadata": {
    "collapsed": false,
    "pycharm": {
     "name": "#%%\n"
    }
   }
  },
  {
   "cell_type": "code",
   "execution_count": 7,
   "outputs": [
    {
     "name": "stdout",
     "output_type": "stream",
     "text": [
      "{\"detected\": []}\n"
     ]
    }
   ],
   "source": [
    "response = openai.ChatCompletion.create(\n",
    "  model=\"gpt-3.5-turbo\",\n",
    "  messages=[\n",
    "        {\"role\": \"system\", \"content\": 'perform sentiment analysis and return me the extremely offensive text/phrases without any explanation, in the json format: {\"detected: [<phrase>, <phrase>] \"} '},\n",
    "        {\"role\": \"user\", \"content\": '''Apple Inc. decided to hire John Smith as their new CEO. The event will take place in San Francisco on 2022-07-23.'''},\n",
    "        # {\"role\": \"assistant\", \"content\": 'Please identify and categorize the entities in the provided text.'},\n",
    "    ]\n",
    ")\n",
    "\n",
    "print(response['choices'][0]['message']['content'])"
   ],
   "metadata": {
    "collapsed": false,
    "pycharm": {
     "name": "#%%\n"
    }
   }
  },
  {
   "cell_type": "markdown",
   "source": [],
   "metadata": {
    "collapsed": false,
    "pycharm": {
     "name": "#%% md\n"
    }
   }
  },
  {
   "cell_type": "code",
   "execution_count": 18,
   "outputs": [
    {
     "name": "stdout",
     "output_type": "stream",
     "text": [
      "{'neg': 0.308, 'neu': 0.554, 'pos': 0.138, 'compound': -0.6705}\n"
     ]
    }
   ],
   "source": [
    "from nltk.sentiment.vader import SentimentIntensityAnalyzer\n",
    "\n",
    "sia = SentimentIntensityAnalyzer()\n",
    "\n",
    "text = '''This idiot demands 50 Patriot3 systems from 'allies'.  Also demands good fighter jets otherwise counter offensive hard to do because lack of air cover '''\n",
    "\n",
    "score = sia.polarity_scores(text)\n",
    "print(score)"
   ],
   "metadata": {
    "collapsed": false,
    "pycharm": {
     "name": "#%%\n"
    }
   }
  },
  {
   "cell_type": "code",
   "execution_count": 9,
   "outputs": [
    {
     "name": "stdout",
     "output_type": "stream",
     "text": [
      "{\"detected\": [\"fuck your mother\"]}\n"
     ]
    }
   ],
   "source": [
    "response = openai.ChatCompletion.create(\n",
    "  model=\"gpt-3.5-turbo\",\n",
    "  messages=[\n",
    "        {\"role\": \"system\", \"content\": 'perform sentiment analysis and return me the extremely offensive text/phrases without any explanation, in the json format: {\"detected: [<phrase>, <phrase>] \"} '},\n",
    "        {\"role\": \"user\", \"content\": '''\"I would like to fuck your mother\"'''},\n",
    "        # {\"role\": \"assistant\", \"content\": 'Please identify and categorize the entities in the provided text.'},\n",
    "    ]\n",
    ")\n",
    "\n",
    "print(response['choices'][0]['message']['content'])"
   ],
   "metadata": {
    "collapsed": false,
    "pycharm": {
     "name": "#%%\n"
    }
   }
  },
  {
   "cell_type": "code",
   "execution_count": 10,
   "outputs": [
    {
     "data": {
      "text/plain": "<OpenAIObject chat.completion id=chatcmpl-7QAUS5QzenX4MVKvbyZFX72eImTBZ at 0x26a98b6fdd0> JSON: {\n  \"id\": \"chatcmpl-7QAUS5QzenX4MVKvbyZFX72eImTBZ\",\n  \"object\": \"chat.completion\",\n  \"created\": 1686471208,\n  \"model\": \"gpt-3.5-turbo-0301\",\n  \"usage\": {\n    \"prompt_tokens\": 54,\n    \"completion_tokens\": 9,\n    \"total_tokens\": 63\n  },\n  \"choices\": [\n    {\n      \"message\": {\n        \"role\": \"assistant\",\n        \"content\": \"{\\\"detected\\\": [\\\"fuck your mother\\\"]}\"\n      },\n      \"finish_reason\": \"stop\",\n      \"index\": 0\n    }\n  ]\n}"
     },
     "execution_count": 10,
     "metadata": {},
     "output_type": "execute_result"
    }
   ],
   "source": [
    "response"
   ],
   "metadata": {
    "collapsed": false,
    "pycharm": {
     "name": "#%%\n"
    }
   }
  },
  {
   "cell_type": "code",
   "execution_count": 13,
   "outputs": [
    {
     "name": "stdout",
     "output_type": "stream",
     "text": [
      "{\"detected\": [\"cut off\", \"thumped\"]}\n"
     ]
    }
   ],
   "source": [
    "response = openai.ChatCompletion.create(\n",
    "  model=\"gpt-3.5-turbo\",\n",
    "  messages=[\n",
    "        {\"role\": \"system\", \"content\": 'perform sentiment analysis and return me the extremely offensive text/phrases without any explanation, in the json format: {\"detected: [<phrase>, <phrase>] \"} '},\n",
    "        {\"role\": \"user\", \"content\": 'A Chinese warship cut off an American warship in the Taiwan Strait while both U.S. and Chinese defense chiefs attended the same conference in Singapore and  days after a Chinese fighter jet \"thumped\" a U.S. Air Force RC-135 in the South China Sea.'},\n",
    "        # {\"role\": \"assistant\", \"content\": 'Please identify and categorize the entities in the provided text.'},\n",
    "    ]\n",
    ")\n",
    "\n",
    "print(response['choices'][0]['message']['content'])"
   ],
   "metadata": {
    "collapsed": false,
    "pycharm": {
     "name": "#%%\n"
    }
   }
  },
  {
   "cell_type": "code",
   "execution_count": 6,
   "outputs": [
    {
     "data": {
      "text/plain": "[[{'label': 'toxicity', 'score': 0.0006405769963748753},\n  {'label': 'male', 'score': 0.00028635511989705265},\n  {'label': 'white', 'score': 0.00023706024512648582},\n  {'label': 'insult', 'score': 0.000138996314490214},\n  {'label': 'identity_attack', 'score': 0.00010856699373107404},\n  {'label': 'christian', 'score': 6.47075503366068e-05},\n  {'label': 'female', 'score': 6.121212209109217e-05},\n  {'label': 'muslim', 'score': 5.820589285576716e-05},\n  {'label': 'black', 'score': 5.386660268413834e-05},\n  {'label': 'psychiatric_or_mental_illness', 'score': 4.63088508695364e-05},\n  {'label': 'threat', 'score': 3.526092768879607e-05},\n  {'label': 'obscene', 'score': 3.0274881282821298e-05},\n  {'label': 'sexual_explicit', 'score': 2.420160308247432e-05},\n  {'label': 'homosexual_gay_or_lesbian', 'score': 2.0228162611601874e-05},\n  {'label': 'jewish', 'score': 1.9041299310629256e-05},\n  {'label': 'severe_toxicity', 'score': 1.1434019597800216e-06}]]"
     },
     "execution_count": 6,
     "metadata": {},
     "output_type": "execute_result"
    }
   ],
   "source": [
    "import requests\n",
    "\n",
    "huggingface_token = os.getenv('HF_TOKEN')\n",
    "API_URL = \"https://api-inference.huggingface.co/models/unitary/unbiased-toxic-roberta\"\n",
    "headers = {\"Authorization\": f\"Bearer {huggingface_token}\"}\n",
    "\n",
    "def query(payload):\n",
    "\tresponse = requests.post(API_URL, headers=headers, json=payload)\n",
    "\treturn response.json()\n",
    "\n",
    "output = query({\n",
    "\t\"inputs\": 'A Chinese warship cut off an American warship in the Taiwan Strait while both U.S. and Chinese defense chiefs attended the same conference in Singapore and  days after a Chinese fighter jet \"thumped\" a U.S. Air Force RC-135 in the South China Sea.',\n",
    "})\n",
    "output"
   ],
   "metadata": {
    "collapsed": false,
    "pycharm": {
     "name": "#%%\n"
    }
   }
  },
  {
   "cell_type": "code",
   "execution_count": 4,
   "outputs": [
    {
     "data": {
      "text/plain": "[[{'label': 'toxicity', 'score': 0.0005681620095856488},\n  {'label': 'male', 'score': 0.00018487480701878667},\n  {'label': 'insult', 'score': 0.0001848305546445772},\n  {'label': 'psychiatric_or_mental_illness', 'score': 0.00010473166184965521},\n  {'label': 'female', 'score': 0.00010348340583732352},\n  {'label': 'christian', 'score': 8.914023783290759e-05},\n  {'label': 'muslim', 'score': 4.75365886813961e-05},\n  {'label': 'threat', 'score': 4.241721035214141e-05},\n  {'label': 'obscene', 'score': 3.9702561480225995e-05},\n  {'label': 'white', 'score': 3.022039345523808e-05},\n  {'label': 'sexual_explicit', 'score': 2.5585730327293277e-05},\n  {'label': 'identity_attack', 'score': 2.26132724492345e-05},\n  {'label': 'homosexual_gay_or_lesbian', 'score': 2.148881867469754e-05},\n  {'label': 'jewish', 'score': 1.827706364565529e-05},\n  {'label': 'black', 'score': 1.7253853002330288e-05},\n  {'label': 'severe_toxicity', 'score': 1.0941928394458955e-06}]]"
     },
     "execution_count": 4,
     "metadata": {},
     "output_type": "execute_result"
    }
   ],
   "source": [],
   "metadata": {
    "collapsed": false,
    "pycharm": {
     "name": "#%%\n"
    }
   }
  },
  {
   "cell_type": "code",
   "execution_count": 1,
   "outputs": [
    {
     "ename": "NameError",
     "evalue": "name 'os' is not defined",
     "output_type": "error",
     "traceback": [
      "\u001B[1;31m---------------------------------------------------------------------------\u001B[0m",
      "\u001B[1;31mNameError\u001B[0m                                 Traceback (most recent call last)",
      "Cell \u001B[1;32mIn[1], line 1\u001B[0m\n\u001B[1;32m----> 1\u001B[0m huggingface_token \u001B[38;5;241m=\u001B[39m \u001B[43mos\u001B[49m\u001B[38;5;241m.\u001B[39mgetenv(\u001B[38;5;124m'\u001B[39m\u001B[38;5;124mHF_TOKEN\u001B[39m\u001B[38;5;124m'\u001B[39m)\n\u001B[0;32m      2\u001B[0m huggingface_token\n",
      "\u001B[1;31mNameError\u001B[0m: name 'os' is not defined"
     ]
    }
   ],
   "source": [],
   "metadata": {
    "collapsed": false,
    "pycharm": {
     "name": "#%%\n"
    }
   }
  }
 ],
 "metadata": {
  "kernelspec": {
   "display_name": "Python 3",
   "language": "python",
   "name": "python3"
  },
  "language_info": {
   "codemirror_mode": {
    "name": "ipython",
    "version": 2
   },
   "file_extension": ".py",
   "mimetype": "text/x-python",
   "name": "python",
   "nbconvert_exporter": "python",
   "pygments_lexer": "ipython2",
   "version": "2.7.6"
  }
 },
 "nbformat": 4,
 "nbformat_minor": 0
}