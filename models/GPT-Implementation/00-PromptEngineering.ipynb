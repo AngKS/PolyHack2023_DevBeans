{
 "cells": [
  {
   "cell_type": "code",
   "execution_count": 25,
   "outputs": [],
   "source": [
    "import os\n",
    "import openai\n",
    "from dotenv import load_dotenv\n",
    "import json\n",
    "\n",
    "dotenv_path = 'models/.env'\n",
    "load_dotenv(dotenv_path)\n",
    "openai.api_key = os.getenv(\"OPENAI_API_KEY\")\n"
   ],
   "metadata": {
    "collapsed": false,
    "pycharm": {
     "name": "#%%\n"
    }
   }
  },
  {
   "cell_type": "markdown",
   "source": [
    "# Named entity recognition"
   ],
   "metadata": {
    "collapsed": false,
    "pycharm": {
     "name": "#%% md\n"
    }
   }
  },
  {
   "cell_type": "code",
   "execution_count": 24,
   "outputs": [
    {
     "name": "stdout",
     "output_type": "stream",
     "text": [
      "{\"entities\": [ [\"United States\", \"GPE\"], [\"$2.1 billion\", \"MONEY\"], [\"Ukraine\", \"GPE\"], [\"munitions\", \"WEAPON\"], [\"Patriot air defense systems\", \"WEAPON\"], [\"Russia\", \"GPE\"], [\"Russian\", \"NORP\"], [\"republicans\", \"NORP\"] ]}\n"
     ]
    }
   ],
   "source": [
    "response = openai.ChatCompletion.create(\n",
    "  model=\"gpt-3.5-turbo\",\n",
    "  messages=[\n",
    "        {\"role\": \"system\", \"content\": 'perform ner and return me a json array of entities and their categories without any explanation, in the format: {\"entities\": [ [<words>, <entity>], [<words>, <entity>] ]} '},\n",
    "        {\"role\": \"user\", \"content\": '''Breaking: The United States has just announced a $2.1 billion military aid package for Ukraine.\n",
    "\n",
    "This includes munitions for Patriot air defense systems.\n",
    "\n",
    "This will help Ukraine better defend itself against Russia.\n",
    "\n",
    "This will help prevent Russian aggression.\n",
    "\n",
    "This is a bipartisan supported package although some republicans are against it.\n",
    "\n",
    "What are your thoughts?'''},\n",
    "        # {\"role\": \"assistant\", \"content\": 'Please identify and categorize the entities in the provided text.'},\n",
    "    ]\n",
    ")\n",
    "\n",
    "print(response['choices'][0]['message']['content'])"
   ],
   "metadata": {
    "collapsed": false,
    "pycharm": {
     "name": "#%%\n"
    }
   }
  },
  {
   "cell_type": "code",
   "execution_count": 27,
   "outputs": [
    {
     "data": {
      "text/plain": "[['United States', 'GPE'],\n ['$2.1 billion', 'MONEY'],\n ['Ukraine', 'GPE'],\n ['munitions', 'WEAPON'],\n ['Patriot air defense systems', 'WEAPON'],\n ['Russia', 'GPE'],\n ['Russian', 'NORP'],\n ['republicans', 'NORP']]"
     },
     "execution_count": 27,
     "metadata": {},
     "output_type": "execute_result"
    }
   ],
   "source": [
    "json.loads(response['choices'][0]['message']['content'])['entities']"
   ],
   "metadata": {
    "collapsed": false,
    "pycharm": {
     "name": "#%%\n"
    }
   }
  },
  {
   "cell_type": "code",
   "execution_count": 21,
   "outputs": [
    {
     "data": {
      "text/plain": "<OpenAIObject chat.completion id=chatcmpl-7PqUTpmrk6QJPxRCto5lENtYegQke at 0x244b0a0bb00> JSON: {\n  \"id\": \"chatcmpl-7PqUTpmrk6QJPxRCto5lENtYegQke\",\n  \"object\": \"chat.completion\",\n  \"created\": 1686394329,\n  \"model\": \"gpt-3.5-turbo-0301\",\n  \"usage\": {\n    \"prompt_tokens\": 60,\n    \"completion_tokens\": 59,\n    \"total_tokens\": 119\n  },\n  \"choices\": [\n    {\n      \"message\": {\n        \"role\": \"assistant\",\n        \"content\": \"[{\\\"entity\\\": \\\"Apple Inc.\\\", \\\"category\\\": \\\"ORG\\\"}, {\\\"entity\\\": \\\"John Smith\\\", \\\"category\\\": \\\"PER\\\"}, {\\\"entity\\\": \\\"San Francisco\\\", \\\"category\\\": \\\"LOC\\\"}, {\\\"entity\\\": \\\"2022-07-23\\\", \\\"category\\\": \\\"MISC\\\"}]\"\n      },\n      \"finish_reason\": \"stop\",\n      \"index\": 0\n    }\n  ]\n}"
     },
     "execution_count": 21,
     "metadata": {},
     "output_type": "execute_result"
    }
   ],
   "source": [
    "response"
   ],
   "metadata": {
    "collapsed": false,
    "pycharm": {
     "name": "#%%\n"
    }
   }
  }
 ],
 "metadata": {
  "kernelspec": {
   "display_name": "Python 3",
   "language": "python",
   "name": "python3"
  },
  "language_info": {
   "codemirror_mode": {
    "name": "ipython",
    "version": 2
   },
   "file_extension": ".py",
   "mimetype": "text/x-python",
   "name": "python",
   "nbconvert_exporter": "python",
   "pygments_lexer": "ipython2",
   "version": "2.7.6"
  }
 },
 "nbformat": 4,
 "nbformat_minor": 0
}