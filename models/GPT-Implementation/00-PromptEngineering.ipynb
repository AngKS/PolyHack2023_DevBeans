{
 "cells": [
  {
   "cell_type": "code",
   "execution_count": 10,
   "outputs": [],
   "source": [
    "import os\n",
    "import openai\n",
    "from dotenv import load_dotenv\n",
    "\n",
    "dotenv_path = 'models/.env'\n",
    "load_dotenv(dotenv_path)\n",
    "openai.api_key = os.getenv(\"OPENAI_API_KEY\")\n"
   ],
   "metadata": {
    "collapsed": false,
    "pycharm": {
     "name": "#%%\n"
    }
   }
  },
  {
   "cell_type": "code",
   "execution_count": 5,
   "outputs": [
    {
     "name": "stdout",
     "output_type": "stream",
     "text": [
      "Sure! Here's a breakdown of the named entities in the provided text:\n",
      "\n",
      "- \"Apple Inc.\" is an organization entity\n",
      "- \"John Smith\" is a person entity\n",
      "- \"CEO\" is a job title entity\n",
      "- \"San Francisco\" is a location entity\n",
      "- \"2022-07-23\" is a date entity\n"
     ]
    }
   ],
   "source": [
    "response = openai.ChatCompletion.create(\n",
    "  model=\"gpt-3.5-turbo\",\n",
    "  messages=[\n",
    "        {\"role\": \"system\", \"content\": \"You are a helpful assistant that extracts named entities from text.\"},\n",
    "        {\"role\": \"user\", \"content\": '\"Apple Inc. decided to hire John Smith as their new CEO. The event will take place in San Francisco on 2022-07-23.\"'},\n",
    "        {\"role\": \"assistant\", \"content\": 'Please identify and categorize the entities in the provided text.'},\n",
    "    ]\n",
    ")\n",
    "\n",
    "print(response['choices'][0]['message']['content'])"
   ],
   "metadata": {
    "collapsed": false,
    "pycharm": {
     "name": "#%%\n"
    }
   }
  },
  {
   "cell_type": "code",
   "execution_count": 6,
   "outputs": [
    {
     "data": {
      "text/plain": "<OpenAIObject chat.completion id=chatcmpl-7PpgRkPnS3tPBYrHHeZykDR9OnxeS at 0x244aec1a700> JSON: {\n  \"id\": \"chatcmpl-7PpgRkPnS3tPBYrHHeZykDR9OnxeS\",\n  \"object\": \"chat.completion\",\n  \"created\": 1686391227,\n  \"model\": \"gpt-3.5-turbo-0301\",\n  \"usage\": {\n    \"prompt_tokens\": 73,\n    \"completion_tokens\": 68,\n    \"total_tokens\": 141\n  },\n  \"choices\": [\n    {\n      \"message\": {\n        \"role\": \"assistant\",\n        \"content\": \"Sure! Here's a breakdown of the named entities in the provided text:\\n\\n- \\\"Apple Inc.\\\" is an organization entity\\n- \\\"John Smith\\\" is a person entity\\n- \\\"CEO\\\" is a job title entity\\n- \\\"San Francisco\\\" is a location entity\\n- \\\"2022-07-23\\\" is a date entity\"\n      },\n      \"finish_reason\": \"stop\",\n      \"index\": 0\n    }\n  ]\n}"
     },
     "execution_count": 6,
     "metadata": {},
     "output_type": "execute_result"
    }
   ],
   "source": [
    "response"
   ],
   "metadata": {
    "collapsed": false,
    "pycharm": {
     "name": "#%%\n"
    }
   }
  }
 ],
 "metadata": {
  "kernelspec": {
   "display_name": "Python 3",
   "language": "python",
   "name": "python3"
  },
  "language_info": {
   "codemirror_mode": {
    "name": "ipython",
    "version": 2
   },
   "file_extension": ".py",
   "mimetype": "text/x-python",
   "name": "python",
   "nbconvert_exporter": "python",
   "pygments_lexer": "ipython2",
   "version": "2.7.6"
  }
 },
 "nbformat": 4,
 "nbformat_minor": 0
}